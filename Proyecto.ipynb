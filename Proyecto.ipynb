{
 "cells": [
  {
   "cell_type": "code",
   "execution_count": 15,
   "metadata": {},
   "outputs": [],
   "source": [
    "import yfinance as yf\n",
    "import numpy as np\n",
    "import pandas as pd\n",
    "import math\n",
    "from datetime import datetime\n",
    "np.random.seed(0)"
   ]
  },
  {
   "cell_type": "code",
   "execution_count": 2,
   "metadata": {},
   "outputs": [],
   "source": [
    "startDate='2019-12-31'\n",
    "endDate='2020-11-18'\n",
    "symbols = ['SWI', 'RNG','MSFT']\n",
    "stockAmount = len(symbols)"
   ]
  },
  {
   "cell_type": "code",
   "execution_count": 3,
   "metadata": {},
   "outputs": [
    {
     "name": "stdout",
     "output_type": "stream",
     "text": [
      "                 SWI       RNG      MSFT\n",
      "Date                                    \n",
      "2019-12-31       NaN       NaN       NaN\n",
      "2020-01-02  0.018231  0.024303  0.015556\n",
      "2020-01-03 -0.013642 -0.005962 -0.007732\n",
      "2020-01-06 -0.009743  0.017723 -0.002622\n",
      "2020-01-07  0.001359  0.017612  0.002496\n"
     ]
    }
   ],
   "source": [
    "df = pd.DataFrame({})\n",
    "for i in symbols:\n",
    "    tickerSymbol = i\n",
    "    #get data on this ticker\n",
    "    tickerData = yf.Ticker(tickerSymbol)\n",
    "    #get the historical prices for this ticker\n",
    "    tickerDf = tickerData.history(period='1d', start=startDate, end=endDate)\n",
    "    tickerDf[\"day_price\"] = (tickerDf[\"Open\"] + tickerDf[\"Close\"]) /2\n",
    "    tickerDf['previus_day_price'] = tickerDf[\"day_price\"].shift()\n",
    "    tickerDf['return'] = np.log( tickerDf[\"day_price\"]/tickerDf['previus_day_price'] )\n",
    "    #print(tickerSymbol, tickerDf)\n",
    "    dfT = pd.DataFrame({\n",
    "        tickerSymbol: tickerDf['return']\n",
    "    })\n",
    "    df = pd.concat([df, dfT], axis=1)\n",
    "print(df.head())"
   ]
  },
  {
   "cell_type": "code",
   "execution_count": 34,
   "metadata": {},
   "outputs": [],
   "source": [
    "portafolio = np.random.rand(10001,stockAmount)\n",
    "totals = portafolio.sum(axis=1)"
   ]
  },
  {
   "cell_type": "code",
   "execution_count": 36,
   "metadata": {},
   "outputs": [],
   "source": [
    "for i in range(len(portafolio)):\n",
    "    portafolio[i] = portafolio[i] / totals[i]\n",
    "portafolio[len(portafolio)-1]=[1/3,1/3,1/3]"
   ]
  },
  {
   "cell_type": "code",
   "execution_count": 37,
   "metadata": {},
   "outputs": [
    {
     "name": "stdout",
     "output_type": "stream",
     "text": [
      "[0.33333333 0.33333333 0.33333333]\n"
     ]
    }
   ],
   "source": [
    "portafolio\n",
    "#print(portafolio[len(portafolio)-1])"
   ]
  },
  {
   "cell_type": "code",
   "execution_count": 38,
   "metadata": {},
   "outputs": [
    {
     "name": "stdout",
     "output_type": "stream",
     "text": [
      "[nan nan nan] [nan nan nan]\n",
      "225\n"
     ]
    }
   ],
   "source": [
    "dataframe=df.to_numpy()\n",
    "#print(dataframe[0],dataframe[224])\n",
    "#print(len(dataframe))\n"
   ]
  },
  {
   "cell_type": "code",
   "execution_count": 106,
   "metadata": {},
   "outputs": [
    {
     "name": "stdout",
     "output_type": "stream",
     "text": [
      "[[0.0007658 ]\n",
      " [0.00251942]\n",
      " [0.00143165]]\n"
     ]
    }
   ],
   "source": [
    "suma0=0\n",
    "suma1=0\n",
    "suma2=0\n",
    "#no hay valores en la primera ni ultima fila\n",
    "for i in range(len(dataframe)-2):\n",
    "    suma0=suma0+dataframe[i+1][0]\n",
    "    suma1=suma1+dataframe[i+1][1]\n",
    "    suma2=suma2+dataframe[i+1][2]\n",
    "prom0=suma0/len(dataframe-2)\n",
    "prom1=suma1/len(dataframe-2)\n",
    "prom2=suma2/len(dataframe-2)\n",
    "prom=np.array([[prom0],[prom1],[prom2]])\n",
    "print(prom)"
   ]
  },
  {
   "cell_type": "code",
   "execution_count": 107,
   "metadata": {},
   "outputs": [],
   "source": [
    "#Expected Portfolio return\n",
    "epr=[]\n",
    "#print(len(portafolio))\n",
    "for i in range(len(portafolio)):\n",
    "    epr.append(portafolio[i][0]*prom[0][0]+portafolio[i][1]*prom[1][0]+portafolio[i][2]*prom[2][0])\n",
    "#print(epr)\n",
    "#print(len(epr))\n"
   ]
  },
  {
   "cell_type": "code",
   "execution_count": 108,
   "metadata": {},
   "outputs": [
    {
     "name": "stdout",
     "output_type": "stream",
     "text": [
      "[[ 0.00000000e+00  0.00000000e+00  0.00000000e+00]\n",
      " [ 1.76961312e-04  3.54732917e-04  1.78247316e-04]\n",
      " [-1.61069512e-05 -1.07037797e-04 -3.58247917e-05]]\n"
     ]
    }
   ],
   "source": [
    "#Covariance matrix\n",
    "dataframen=np.zeros((len(dataframe),3))\n",
    "cov=[]\n",
    "for i in range (len(dataframe)-2):\n",
    "    dataframen[i+1][0]=dataframe[i+1][0]-prom[0][0]\n",
    "    dataframen[i+1][1]=dataframe[i+1][1]-prom[1][0]\n",
    "    dataframen[i+1][2]=dataframe[i+1][2]-prom[2][0]\n",
    "transpuesta=np.transpose(dataframen)\n",
    "#print(dataframen)\n",
    "#print(transpuesta)\n",
    "#print(transpuesta[0][1])\n",
    "cov=np.zeros((3,3))\n",
    "#print(cov)\n",
    "for i in range(len(transpuesta)):\n",
    "    cov[0][0]=cov[0][0]+transpuesta[i][0]*dataframen[i][0]\n",
    "    cov[0][1]=cov[0][1]+transpuesta[i][0]*dataframen[i][1]\n",
    "    cov[0][2]=cov[0][2]+transpuesta[i][0]*dataframen[i][2]\n",
    "    cov[1][0]=cov[1][0]+transpuesta[i][1]*dataframen[i][0]\n",
    "    cov[1][1]=cov[1][1]+transpuesta[i][1]*dataframen[i][1]\n",
    "    cov[1][2]=cov[1][2]+transpuesta[i][1]*dataframen[i][2]\n",
    "    cov[2][0]=cov[2][0]+transpuesta[i][2]*dataframen[i][0]\n",
    "    cov[2][1]=cov[2][1]+transpuesta[i][2]*dataframen[i][1]\n",
    "    cov[2][2]=cov[2][2]+transpuesta[i][2]*dataframen[i][2]\n",
    "print(cov)"
   ]
  },
  {
   "cell_type": "code",
   "execution_count": 109,
   "metadata": {},
   "outputs": [],
   "source": [
    "#Volatility\n",
    "vola=[]\n",
    "value=np.zeros((1,3))\n",
    "a=0\n",
    "for i in range(len(portafolio)):\n",
    "    value[0][0]=portafolio[i][0]*cov[0][0]+portafolio[i][1]*cov[1][0]+portafolio[i][2]*cov[2][0]\n",
    "    value[0][1]=portafolio[i][0]*cov[0][1]+portafolio[i][1]*cov[1][1]+portafolio[i][2]*cov[2][1]\n",
    "    value[0][2]=portafolio[i][0]*cov[0][2]+portafolio[i][2]*cov[1][2]+portafolio[i][2]*cov[2][2]\n",
    "    a=portafolio[i][0]*value[0][0]+portafolio[i][1]*value[0][1]+portafolio[i][2]*value[0][2]\n",
    "    a=math.sqrt(abs(a))\n",
    "    vola.append(a)\n",
    "#print(vola)"
   ]
  },
  {
   "cell_type": "code",
   "execution_count": 110,
   "metadata": {},
   "outputs": [],
   "source": [
    "#Sharpe ratio\n",
    "#Risk free rate\n",
    "rfr=0.0088\n",
    "sr=[]\n",
    "for i in range(len(epr)):\n",
    "    sr.append((epr[i]-rfr)/vola[i])\n",
    "#print(sr)"
   ]
  },
  {
   "cell_type": "code",
   "execution_count": 105,
   "metadata": {},
   "outputs": [
    {
     "name": "stdout",
     "output_type": "stream",
     "text": [
      "El portafolio que tiene mayor relacion de Sharpe es el numero 6895 con una relacion de Sharpe que vale: 0.10138321113431115\n",
      "Tiene un riesgo de: 0.1508324070109903  y un retorno de:  0.024091873765891583\n",
      "---------------------------------------------------------------------------------------------------------------------------\n",
      "El portafolio que menor riesgo tiene es el numero 5742 con un riesgo que vale: 0.00030197601390902576 \n",
      " Tiene una relacion de Sharpe de: -26.565499106046577  y un retorno de: 0.000777856472452268\n",
      "---------------------------------------------------------------------------------------------------------------------------\n",
      "El portafolio en el cual se invierte equitativamente en las diferentes acciones tiene un riesgo de: 0.004420451011546248 , un retorno de: 0.0009089424341049036 y una relacion de Sharpe de: -1.7851249895731454\n"
     ]
    }
   ],
   "source": [
    "#Max sharpe ratio\n",
    "maxsrportfolio=sr.index(max(sr))\n",
    "maxsr=max(sr)\n",
    "maxsrprisk=vola[maxsrportfolio]\n",
    "maxsrpreturn=epr[maxsrportfolio]\n",
    "print(\"El portafolio que tiene mayor relacion de Sharpe es el numero\", maxsrportfolio+1, \"con una relacion de Sharpe que vale:\", maxsr)\n",
    "print(\"Tiene un riesgo de:\",maxsrprisk,\" y un retorno de: \",maxsrpreturn)\n",
    "#Min risk portfolio\n",
    "minriskportfolio=vola.index(min(vola))\n",
    "minrisk=min(vola)\n",
    "minriskpreturn=sr[minriskportfolio]\n",
    "minriskpsr=epr[minriskportfolio]\n",
    "print(\"---------------------------------------------------------------------------------------------------------------------------\")\n",
    "print(\"El portafolio que menor riesgo tiene es el numero\", minriskportfolio+1, \"con un riesgo que vale:\", minrisk,\"\\n Tiene una relacion de Sharpe de:\", minriskpreturn,\" y un retorno de:\",minriskpsr)\n",
    "#se le suma 1 al indice porque los indices estan corridos\n",
    "#Equally distributed portfolio\n",
    "edportfolio=1001\n",
    "edprisk=vola[edportfolio-1]\n",
    "edpsr=sr[edportfolio-1]\n",
    "edpreturn=epr[edportfolio-1]\n",
    "print(\"---------------------------------------------------------------------------------------------------------------------------\")\n",
    "print(\"El portafolio en el cual se invierte equitativamente en las diferentes acciones tiene un riesgo de:\",edprisk,\", un retorno de:\",edpreturn, \"y una relacion de Sharpe de:\",edpsr)"
   ]
  },
  {
   "cell_type": "code",
   "execution_count": 92,
   "metadata": {},
   "outputs": [
    {
     "data": {
      "image/png": "[encoded data removed]",
      "text/plain": [
       "<Figure size 432x288 with 1 Axes>"
      ]
     },
     "metadata": {
      "needs_background": "light"
     },
     "output_type": "display_data"
    }
   ],
   "source": [
    "import matplotlib.pyplot as plt\n",
    "        # find min Volatility & max sharpe values in the dataframe (df)\n",
    "    \n",
    "def plot_single_point(x,y,title,colour):\n",
    "        plt.scatter(x=x, y=y, c=colour, marker='D', s=200)\n",
    "        plt.annotate(title, # this is the text\n",
    "                 (x,y), # this is the point to label\n",
    "                 textcoords=\"offset points\", # how to position the text\n",
    "                 xytext=(0,10), # distance from text to points (x,y)\n",
    "                 ha='center') # horizontal alignment can be left, right or center        \n",
    "        \n",
    "max_sharpe_ratio = maxsr\n",
    "min_risk = minrisk\n",
    "plt.scatter(vola, epr,c=sr,cmap='RdYlGn', edgecolors='black')\n",
    "x = max_sharpe_ratio\n",
    "y = epr[maxsrportfolio]\n",
    "name = str(maxsrportfolio+1)   \n",
    "plt.title(str(len(portafolio))+\" Portfolios Risk-Return\")\n",
    "plt.xlabel(\"Risk\")\n",
    "plt.ylabel(\"Return\")\n",
    "plot_single_point(x,y,'Max Sharpe Ratio: '+name, 'green')\n",
    "x = min_risk\n",
    "y = epr[minriskportfolio]\n",
    "name = str(minriskportfolio+1)\n",
    "plot_single_point(x,y,'Min Risk: '+name, 'red')\n",
    "x = vola[edportfolio-1]\n",
    "y = epr[edportfolio-1]\n",
    "name = str(edportfolio+1)\n",
    "plot_single_point(x,y,'Portfolio: '+name, 'black')\n"
   ]
  },
  {
   "cell_type": "code",
   "execution_count": null,
   "metadata": {},
   "outputs": [],
   "source": []
  }
 ],
 "metadata": {
  "kernelspec": {
   "display_name": "Python 3",
   "language": "python",
   "name": "python3"
  },
  "language_info": {
   "codemirror_mode": {
    "name": "ipython",
    "version": 3
   },
   "file_extension": ".py",
   "mimetype": "text/x-python",
   "name": "python",
   "nbconvert_exporter": "python",
   "pygments_lexer": "ipython3",
   "version": "3.8.2"
  }
 },
 "nbformat": 4,
 "nbformat_minor": 4
}
