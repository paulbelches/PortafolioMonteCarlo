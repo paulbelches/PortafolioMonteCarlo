{
 "cells": [
  {
   "cell_type": "code",
   "execution_count": 180,
   "metadata": {},
   "outputs": [],
   "source": [
    "import yfinance as yf\n",
    "import numpy as np\n",
    "import pandas as pd\n",
    "from datetime import datetime\n",
    "np.random.seed(0)"
   ]
  },
  {
   "cell_type": "code",
   "execution_count": 181,
   "metadata": {},
   "outputs": [],
   "source": [
    "startDate='2019-12-31'\n",
    "endDate='2020-11-18'\n",
    "symbols = ['SWI', 'RNG','MSFT']\n",
    "stockAmount = len(symbols)"
   ]
  },
  {
   "cell_type": "code",
   "execution_count": 182,
   "metadata": {},
   "outputs": [
    {
     "name": "stdout",
     "output_type": "stream",
     "text": [
      "                 SWI       RNG      MSFT\n",
      "Date                                    \n",
      "2019-12-31       NaN       NaN       NaN\n",
      "2020-01-02  0.018231  0.024303  0.015556\n",
      "2020-01-03 -0.013642 -0.005962 -0.007732\n",
      "2020-01-06 -0.009743  0.017723 -0.002622\n",
      "2020-01-07  0.001359  0.017612  0.002496\n"
     ]
    }
   ],
   "source": [
    "df = pd.DataFrame({})\n",
    "for i in symbols:\n",
    "    tickerSymbol = i\n",
    "    #get data on this ticker\n",
    "    tickerData = yf.Ticker(tickerSymbol)\n",
    "    #get the historical prices for this ticker\n",
    "    tickerDf = tickerData.history(period='1d', start=startDate, end=endDate)\n",
    "    tickerDf[\"day_price\"] = (tickerDf[\"Open\"] + tickerDf[\"Close\"]) /2\n",
    "    tickerDf['previus_day_price'] = tickerDf[\"day_price\"].shift()\n",
    "    tickerDf['return'] = np.log( tickerDf[\"day_price\"]/tickerDf['previus_day_price'] )\n",
    "    #print(tickerSymbol, tickerDf)\n",
    "    dfT = pd.DataFrame({\n",
    "        tickerSymbol: tickerDf['return']\n",
    "    })\n",
    "    df = pd.concat([df, dfT], axis=1)\n",
    "print(df.head())"
   ]
  },
  {
   "cell_type": "code",
   "execution_count": 189,
   "metadata": {},
   "outputs": [],
   "source": [
    "portafolio = np.random.rand(10000,stockAmount)\n",
    "totals = portafolio.sum(axis=1)"
   ]
  },
  {
   "cell_type": "code",
   "execution_count": 190,
   "metadata": {},
   "outputs": [],
   "source": [
    "for i in range(len(portafolio)):\n",
    "    portafolio[i] = portafolio[i] / totals[i]"
   ]
  },
  {
   "cell_type": "code",
   "execution_count": 193,
   "metadata": {},
   "outputs": [
    {
     "data": {
      "text/plain": [
       "array([[0.52703941, 0.3499008 , 0.12305979],\n",
       "       [0.3657442 , 0.2270479 , 0.4072079 ],\n",
       "       [0.49606352, 0.34462341, 0.15931306],\n",
       "       ...,\n",
       "       [0.34391714, 0.28877323, 0.36730963],\n",
       "       [0.25279875, 0.5224005 , 0.22480075],\n",
       "       [0.230219  , 0.35952882, 0.41025218]])"
      ]
     },
     "execution_count": 193,
     "metadata": {},
     "output_type": "execute_result"
    }
   ],
   "source": [
    "portafolio"
   ]
  },
  {
   "cell_type": "code",
   "execution_count": null,
   "metadata": {},
   "outputs": [],
   "source": []
  }
 ],
 "metadata": {
  "kernelspec": {
   "display_name": "Python 3",
   "language": "python",
   "name": "python3"
  },
  "language_info": {
   "codemirror_mode": {
    "name": "ipython",
    "version": 3
   },
   "file_extension": ".py",
   "mimetype": "text/x-python",
   "name": "python",
   "nbconvert_exporter": "python",
   "pygments_lexer": "ipython3",
   "version": "3.7.3"
  }
 },
 "nbformat": 4,
 "nbformat_minor": 4
}
